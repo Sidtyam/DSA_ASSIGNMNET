{
 "cells": [
  {
   "cell_type": "markdown",
   "id": "expected-aggregate",
   "metadata": {},
   "source": [
    "Q1. Write a program to find all pairs of an integer array whose sum is equal to a given number?"
   ]
  },
  {
   "cell_type": "code",
   "execution_count": 5,
   "id": "respiratory-interpretation",
   "metadata": {},
   "outputs": [
    {
     "name": "stdout",
     "output_type": "stream",
     "text": [
      "Count of pairs is 3 [(1, 5), (1, 5), (7, -1)]\n"
     ]
    }
   ],
   "source": [
    "def getPairsCount(arr, n, sum):\n",
    "    count = 0 \n",
    "    pair=[]\n",
    "    for i in range(n):\n",
    "        for j in range(i + 1, n):\n",
    "            if arr[i] + arr[j] == sum:\n",
    "                count += 1\n",
    "                pair.append((arr[i],arr[j]))\n",
    "    return count,pair\n",
    " \n",
    "\n",
    "arr = [1, 5, 7, -1, 5]\n",
    "n = len(arr)\n",
    "sum= 6\n",
    "pairs,arr_pair=getPairsCount(arr, n, sum)\n",
    "print(\"Count of pairs is\",pairs,arr_pair)"
   ]
  },
  {
   "cell_type": "markdown",
   "id": "australian-shade",
   "metadata": {},
   "source": [
    "Q2. Write a program to reverse an array in place? In place means you cannot create a new array. You have to update the original array."
   ]
  },
  {
   "cell_type": "code",
   "execution_count": 1,
   "id": "positive-jerusalem",
   "metadata": {},
   "outputs": [
    {
     "name": "stdout",
     "output_type": "stream",
     "text": [
      "Original Array is : array('i', [2, 4, 6, 8, 10, 12])\n",
      "Reversed Array: array('i', [12, 10, 8, 6, 4, 2])\n"
     ]
    }
   ],
   "source": [
    "import array\n",
    " \n",
    "#The original array\n",
    "new_arr=array.array('i',[2,4,6,8,10,12])\n",
    "print(\"Original Array is :\",new_arr)\n",
    " \n",
    "#reversing using reverse()\n",
    "new_arr.reverse()\n",
    "print(\"Reversed Array:\",new_arr)"
   ]
  },
  {
   "cell_type": "markdown",
   "id": "ranking-shadow",
   "metadata": {},
   "source": [
    "Q3. Write a program to check if two strings are a rotation of each other?"
   ]
  },
  {
   "cell_type": "code",
   "execution_count": 3,
   "id": "popular-federal",
   "metadata": {},
   "outputs": [
    {
     "name": "stdout",
     "output_type": "stream",
     "text": [
      "Strings are rotations of each other\n"
     ]
    }
   ],
   "source": [
    "def areRotations(string1, string2):\n",
    "    size1 = len(string1)\n",
    "    size2 = len(string2)\n",
    "    temp = ''\n",
    "    if size1 != size2:\n",
    "        return 0\n",
    "    temp = string1 + string1\n",
    "    if (temp.count(string2)> 0):\n",
    "        return 1\n",
    "    else:\n",
    "        return 0\n",
    "    \n",
    "    \n",
    "string1 = \"AACD\"\n",
    "string2 = \"ACDA\"\n",
    " \n",
    "if areRotations(string1, string2):\n",
    "    print(\"Strings are rotations of each other\")\n",
    "else:\n",
    "    print(\"Strings are not rotations of each other\")"
   ]
  },
  {
   "cell_type": "markdown",
   "id": "modular-growing",
   "metadata": {},
   "source": [
    "Q4. Write a program to print the first non-repeated character from a string?"
   ]
  },
  {
   "cell_type": "code",
   "execution_count": 9,
   "id": "living-shakespeare",
   "metadata": {},
   "outputs": [
    {
     "name": "stdout",
     "output_type": "stream",
     "text": [
      "First non-repeating character is s\n"
     ]
    }
   ],
   "source": [
    "\n",
    "NO_OF_CHARS = 256\n",
    " \n",
    "def getCharCountArray(string):\n",
    "    count = [0] * NO_OF_CHARS\n",
    "    for i in string:\n",
    "        count[ord(i)]+= 1\n",
    "    return count\n",
    "\n",
    "def firstNonRepeating(string):\n",
    "    count = getCharCountArray(string)\n",
    "    index = -1\n",
    "    k = 0\n",
    "    for i in string:\n",
    "        if count[ord(i)] == 1:\n",
    "            index = k\n",
    "            break\n",
    "        k += 1\n",
    "    return index\n",
    " \n",
    "\n",
    "string = \"geeksgeeks\"\n",
    "index = firstNonRepeating(string)\n",
    "if index == 1:\n",
    "    print(\"Either all characters are repeating or string is empty\")\n",
    "else:\n",
    "    print(\"First non-repeating character is \" + string[index])"
   ]
  },
  {
   "cell_type": "markdown",
   "id": "increasing-circulation",
   "metadata": {},
   "source": [
    "Q5. Read about the Tower of Hanoi algorithm. Write a program to implement it."
   ]
  },
  {
   "cell_type": "code",
   "execution_count": 10,
   "id": "entire-rating",
   "metadata": {},
   "outputs": [
    {
     "name": "stdout",
     "output_type": "stream",
     "text": [
      "Move disk 1 from rod A to rod B\n",
      "Move disk 2 from rod A to rod C\n",
      "Move disk 1 from rod B to rod C\n",
      "Move disk 3 from rod A to rod B\n",
      "Move disk 1 from rod C to rod A\n",
      "Move disk 2 from rod C to rod B\n",
      "Move disk 1 from rod A to rod B\n",
      "Move disk 4 from rod A to rod C\n",
      "Move disk 1 from rod B to rod C\n",
      "Move disk 2 from rod B to rod A\n",
      "Move disk 1 from rod C to rod A\n",
      "Move disk 3 from rod B to rod C\n",
      "Move disk 1 from rod A to rod B\n",
      "Move disk 2 from rod A to rod C\n",
      "Move disk 1 from rod B to rod C\n"
     ]
    }
   ],
   "source": [
    "def TowerOfHanoi(n , from_rod, to_rod, aux_rod):\n",
    "    if n == 1:\n",
    "        print(\"Move disk 1 from rod\",from_rod,\"to rod\",to_rod)\n",
    "        return\n",
    "    TowerOfHanoi(n-1, from_rod, aux_rod, to_rod)\n",
    "    print(\"Move disk\",n,\"from rod\",from_rod,\"to rod\",to_rod)\n",
    "    TowerOfHanoi(n-1, aux_rod, to_rod, from_rod)\n",
    "         \n",
    "        \n",
    "n = 4\n",
    "TowerOfHanoi(n, 'A', 'C', 'B')"
   ]
  },
  {
   "cell_type": "markdown",
   "id": "intimate-basics",
   "metadata": {},
   "source": [
    "Q6. Read about infix, prefix and postfix expressions. Write a program to convert postfix to prefix expression."
   ]
  },
  {
   "cell_type": "code",
   "execution_count": 13,
   "id": "innovative-forestry",
   "metadata": {},
   "outputs": [
    {
     "name": "stdout",
     "output_type": "stream",
     "text": [
      "Prefix :  +AB-CD\n"
     ]
    }
   ],
   "source": [
    "def isOperator(x):\n",
    "    if x == \"+\":\n",
    "        return True\n",
    "    if x == \"-\":\n",
    "        return True\n",
    "    if x == \"/\":\n",
    "        return True\n",
    "    if x == \"*\":\n",
    "        return True\n",
    "    return False\n",
    " \n",
    "def postToPre(post_exp):\n",
    "    s = []\n",
    "    length = len(post_exp)\n",
    "    for i in range(length):\n",
    "        if (isOperator(post_exp[i])):\n",
    "            op1 = s[-1]\n",
    "            s.pop()\n",
    "            op2 = s[-1]\n",
    "            s.pop()\n",
    "            temp = post_exp[i] + op2 + op1\n",
    "            s.append(temp)\n",
    "        else:\n",
    "            s.append(post_exp[i])\n",
    "    ans = \"\"\n",
    "    for i in s:\n",
    "        ans += i\n",
    "    return ans\n",
    "\n",
    " \n",
    "post_exp = \"AB+CD-\"\n",
    "print(\"Prefix : \", postToPre(post_exp))"
   ]
  },
  {
   "cell_type": "markdown",
   "id": "attractive-muslim",
   "metadata": {},
   "source": [
    "Q7. Write a program to convert prefix expression to infix expression."
   ]
  },
  {
   "cell_type": "code",
   "execution_count": 14,
   "id": "ruled-operator",
   "metadata": {},
   "outputs": [
    {
     "name": "stdout",
     "output_type": "stream",
     "text": [
      "((A-(B/C))*((A/K)-L))\n"
     ]
    }
   ],
   "source": [
    "def prefixToInfix(prefix):\n",
    "    stack = []\n",
    "    i = len(prefix) - 1\n",
    "    while i >= 0:\n",
    "        if not isOperator(prefix[i]):\n",
    "            stack.append(prefix[i])\n",
    "            i -= 1\n",
    "        else:\n",
    "            str = \"(\" + stack.pop() + prefix[i] + stack.pop() + \")\"\n",
    "            stack.append(str)\n",
    "            i -= 1\n",
    "    return stack.pop()\n",
    " \n",
    "def isOperator(c):\n",
    "    if c == \"*\" or c == \"+\" or c == \"-\" or c == \"/\" or c == \"^\" or c == \"(\" or c == \")\":\n",
    "        return True\n",
    "    else:\n",
    "        return False\n",
    "\n",
    "str = \"*-A/BC-/AKL\"\n",
    "print(prefixToInfix(str))"
   ]
  },
  {
   "cell_type": "markdown",
   "id": "undefined-awareness",
   "metadata": {},
   "source": [
    "Q8. Write a program to check if all the brackets are closed in a given code snippet."
   ]
  },
  {
   "cell_type": "code",
   "execution_count": 17,
   "id": "committed-membership",
   "metadata": {},
   "outputs": [
    {
     "name": "stdout",
     "output_type": "stream",
     "text": [
      "Not Balanced\n"
     ]
    }
   ],
   "source": [
    "def areBracketsBalanced(expr):\n",
    "    stack = []\n",
    "    for char in expr:\n",
    "        if char in [\"(\", \"{\", \"[\"]:\n",
    "            stack.append(char)\n",
    "        else:\n",
    "            if not stack:\n",
    "                return False\n",
    "            current_char = stack.pop()\n",
    "            if current_char == '(':\n",
    "                if char != \")\":\n",
    "                    return False\n",
    "            if current_char == '{':\n",
    "                if char != \"}\":\n",
    "                    return False\n",
    "            if current_char == '[':\n",
    "                if char != \"]\":\n",
    "                    return False\n",
    "    if stack:\n",
    "        return False\n",
    "    return True\n",
    " \n",
    "\n",
    "expr = \"{)}\"\n",
    "if areBracketsBalanced(expr):\n",
    "    print(\"Balanced\")\n",
    "else:\n",
    "    print(\"Not Balanced\")"
   ]
  },
  {
   "cell_type": "markdown",
   "id": "historical-delhi",
   "metadata": {},
   "source": [
    "Q9. Write a program to reverse a stack."
   ]
  },
  {
   "cell_type": "code",
   "execution_count": 19,
   "id": "opened-verification",
   "metadata": {},
   "outputs": [
    {
     "name": "stdout",
     "output_type": "stream",
     "text": [
      "Original Stack\n",
      "5\n",
      "4\n",
      "3\n",
      "2\n",
      "1\n",
      "\n",
      "Stack after Reversing\n",
      "1\n",
      "2\n",
      "3\n",
      "4\n",
      "5\n"
     ]
    }
   ],
   "source": [
    "class Stack:\n",
    "\n",
    "    def __init__(self):\n",
    "        self.Elements = []\n",
    "\n",
    "    def push(self, value):\n",
    "        self.Elements.append(value)\n",
    "\n",
    "    def pop(self):\n",
    "        return self.Elements.pop()\n",
    "\n",
    "    def empty(self):\n",
    "        return self.Elements == []\n",
    "\n",
    "    def show(self):\n",
    "        for value in reversed(self.Elements):\n",
    "            print(value)\n",
    "\n",
    "def BottomInsert(s, value):\n",
    "    if s.empty():\n",
    "        s.push(value)\n",
    "    else:\n",
    "        popped = s.pop()\n",
    "        BottomInsert(s, value)\n",
    "        s.push(popped)\n",
    "\n",
    "def Reverse(s):\n",
    "    if s.empty():\n",
    "        pass\n",
    "    else:\n",
    "        popped = s.pop()\n",
    "        Reverse(s)\n",
    "        BottomInsert(s, popped)\n",
    "\n",
    "        \n",
    "stk = Stack()\n",
    " \n",
    "stk.push(1)\n",
    "stk.push(2)\n",
    "stk.push(3)\n",
    "stk.push(4)\n",
    "stk.push(5)\n",
    " \n",
    "print(\"Original Stack\")\n",
    "stk.show()\n",
    " \n",
    "print(\"\\nStack after Reversing\")\n",
    "Reverse(stk)\n",
    "stk.show()"
   ]
  },
  {
   "cell_type": "markdown",
   "id": "norwegian-belgium",
   "metadata": {},
   "source": [
    "Q10. Write a program to find the smallest number in using a stack."
   ]
  },
  {
   "cell_type": "code",
   "execution_count": 20,
   "id": "hairy-outreach",
   "metadata": {},
   "outputs": [
    {
     "name": "stdout",
     "output_type": "stream",
     "text": [
      "Number Inserted: 3\n",
      "Number Inserted: 5\n",
      "Minimum Element in the stack is: 3\n",
      "Number Inserted: 2\n",
      "Number Inserted: 1\n",
      "Minimum Element in the stack is: 1\n",
      "Top Most Element Removed :1 \n",
      "Minimum Element in the stack is: 2\n",
      "Top Most Element Removed :2 \n",
      "Top Most Element is: 5\n"
     ]
    }
   ],
   "source": [
    "class Node:\n",
    "    def __init__(self, value):\n",
    "        self.value = value\n",
    "        self.next = None\n",
    "        \n",
    "    def __str__(self):\n",
    "        return \"Node({})\".format(self.value)\n",
    "    __repr__ = __str__\n",
    " \n",
    " \n",
    "class Stack:\n",
    "    def __init__(self):\n",
    "        self.top = None\n",
    "        self.count = 0\n",
    "        self.minimum = None\n",
    "        \n",
    "    def __str__(self):\n",
    "        temp = self.top\n",
    "        out = []\n",
    "        while temp:\n",
    "            out.append(str(temp.value))\n",
    "            temp = temp.next\n",
    "        out = '\\n'.join(out)\n",
    "        return ('Top {} \\n\\nStack :\\n{}'.format(self.top,out))\n",
    "    __repr__=__str__\n",
    "    \n",
    "    def getMin(self):\n",
    "        if self.top is None:\n",
    "            return \"Stack is empty\"\n",
    "        else:\n",
    "            print(\"Minimum Element in the stack is: {}\" .format(self.minimum))\n",
    "\n",
    "    def isEmpty(self):\n",
    "        if self.top == None:\n",
    "            return True\n",
    "        else:\n",
    "            return False\n",
    "        \n",
    "    def __len__(self):\n",
    "        self.count = 0\n",
    "        tempNode = self.top\n",
    "        while tempNode:\n",
    "            tempNode = tempNode.next\n",
    "            self.count+=1\n",
    "        return self.count\n",
    "  \n",
    "    def peek(self):\n",
    "        if self.top is None:\n",
    "            print (\"Stack is empty\")\n",
    "        else:\n",
    "            if self.top.value < self.minimum:\n",
    "                print(\"Top Most Element is: {}\" .format(self.minimum))\n",
    "            else:\n",
    "                print(\"Top Most Element is: {}\" .format(self.top.value))\n",
    "\n",
    "    def push(self,value):\n",
    "        if self.top is None:\n",
    "            self.top = Node(value)\n",
    "            self.minimum = value\n",
    "         \n",
    "        elif value < self.minimum:\n",
    "            temp = (2 * value) - self.minimum\n",
    "            new_node = Node(temp)\n",
    "            new_node.next = self.top\n",
    "            self.top = new_node\n",
    "            self.minimum = value\n",
    "        else:\n",
    "            new_node = Node(value)\n",
    "            new_node.next = self.top\n",
    "            self.top = new_node\n",
    "        print(\"Number Inserted: {}\" .format(value))\n",
    "\n",
    "    def pop(self):\n",
    "        if self.top is None:\n",
    "            print( \"Stack is empty\")\n",
    "        else:\n",
    "            removedNode = self.top.value\n",
    "            self.top = self.top.next\n",
    "            if removedNode < self.minimum:\n",
    "                print (\"Top Most Element Removed :{} \" .format(self.minimum))\n",
    "                self.minimum = ( ( 2 * self.minimum ) - removedNode )\n",
    "            else:\n",
    "                print (\"Top Most Element Removed : {}\" .format(removedNode))\n",
    " \n",
    "                 \n",
    "\n",
    "stack = Stack()\n",
    " \n",
    "stack.push(3)\n",
    "stack.push(5)\n",
    "stack.getMin()\n",
    "stack.push(2)\n",
    "stack.push(1)\n",
    "stack.getMin()    \n",
    "stack.pop()\n",
    "stack.getMin()\n",
    "stack.pop()\n",
    "stack.peek()"
   ]
  },
  {
   "cell_type": "code",
   "execution_count": null,
   "id": "moderate-landing",
   "metadata": {},
   "outputs": [],
   "source": []
  }
 ],
 "metadata": {
  "kernelspec": {
   "display_name": "Python 3",
   "language": "python",
   "name": "python3"
  },
  "language_info": {
   "codemirror_mode": {
    "name": "ipython",
    "version": 3
   },
   "file_extension": ".py",
   "mimetype": "text/x-python",
   "name": "python",
   "nbconvert_exporter": "python",
   "pygments_lexer": "ipython3",
   "version": "3.9.2"
  }
 },
 "nbformat": 4,
 "nbformat_minor": 5
}
